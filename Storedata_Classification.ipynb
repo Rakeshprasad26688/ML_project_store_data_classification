{
 "cells": [
  {
   "cell_type": "markdown",
   "id": "ae11eec0",
   "metadata": {},
   "source": [
    "Project Objective: Develop logistic regression, decision tree and neural network\n",
    "models that will identify whether stores will perform well or poorly.\n"
   ]
  },
  {
   "cell_type": "markdown",
   "id": "6e9ad1dd",
   "metadata": {},
   "source": [
    "# Improting Libaries\n"
   ]
  },
  {
   "cell_type": "code",
   "execution_count": 1,
   "id": "35c20d3e",
   "metadata": {},
   "outputs": [],
   "source": [
    "import numpy as np # linear algebra\n",
    "import pandas as pd # data processing, CSV file I/O (e.g. pd.read_csv)"
   ]
  },
  {
   "cell_type": "code",
   "execution_count": 2,
   "id": "4d7f849d",
   "metadata": {},
   "outputs": [],
   "source": [
    "#Loading Dataset\n",
    "store_data = pd.read_excel(r'Downloads/storedata.csv')"
   ]
  },
  {
   "cell_type": "code",
   "execution_count": 3,
   "id": "48c664de",
   "metadata": {},
   "outputs": [
    {
     "data": {
      "text/html": [
       "<div>\n",
       "<style scoped>\n",
       "    .dataframe tbody tr th:only-of-type {\n",
       "        vertical-align: middle;\n",
       "    }\n",
       "\n",
       "    .dataframe tbody tr th {\n",
       "        vertical-align: top;\n",
       "    }\n",
       "\n",
       "    .dataframe thead th {\n",
       "        text-align: right;\n",
       "    }\n",
       "</style>\n",
       "<table border=\"1\" class=\"dataframe\">\n",
       "  <thead>\n",
       "    <tr style=\"text-align: right;\">\n",
       "      <th></th>\n",
       "      <th>Town</th>\n",
       "      <th>Country</th>\n",
       "      <th>Store ID</th>\n",
       "      <th>Manager name</th>\n",
       "      <th>Staff</th>\n",
       "      <th>Floor Space</th>\n",
       "      <th>Window</th>\n",
       "      <th>Car park</th>\n",
       "      <th>Demographic score</th>\n",
       "      <th>Location</th>\n",
       "      <th>40min population</th>\n",
       "      <th>30 min population</th>\n",
       "      <th>20 min population</th>\n",
       "      <th>10 min population</th>\n",
       "      <th>Store age</th>\n",
       "      <th>Clearance space</th>\n",
       "      <th>Competition number</th>\n",
       "      <th>Competition score</th>\n",
       "      <th>Performance</th>\n",
       "    </tr>\n",
       "  </thead>\n",
       "  <tbody>\n",
       "    <tr>\n",
       "      <th>0</th>\n",
       "      <td>Swinton (Greater Manchester)</td>\n",
       "      <td>UK</td>\n",
       "      <td>1437</td>\n",
       "      <td>Roger</td>\n",
       "      <td>9</td>\n",
       "      <td>18526</td>\n",
       "      <td>121</td>\n",
       "      <td>Yes</td>\n",
       "      <td>10</td>\n",
       "      <td>Retail Park</td>\n",
       "      <td>1288374</td>\n",
       "      <td>1138224</td>\n",
       "      <td>1006986</td>\n",
       "      <td>1002340</td>\n",
       "      <td>3</td>\n",
       "      <td>238</td>\n",
       "      <td>16</td>\n",
       "      <td>16</td>\n",
       "      <td>Good</td>\n",
       "    </tr>\n",
       "    <tr>\n",
       "      <th>1</th>\n",
       "      <td>Stamford</td>\n",
       "      <td>UK</td>\n",
       "      <td>1544</td>\n",
       "      <td>Ella</td>\n",
       "      <td>8</td>\n",
       "      <td>18569</td>\n",
       "      <td>121</td>\n",
       "      <td>Yes</td>\n",
       "      <td>11</td>\n",
       "      <td>Shopping Centre</td>\n",
       "      <td>1086225</td>\n",
       "      <td>1015321</td>\n",
       "      <td>1012182</td>\n",
       "      <td>1008436</td>\n",
       "      <td>4</td>\n",
       "      <td>384</td>\n",
       "      <td>15</td>\n",
       "      <td>19</td>\n",
       "      <td>Good</td>\n",
       "    </tr>\n",
       "    <tr>\n",
       "      <th>2</th>\n",
       "      <td>Skipton</td>\n",
       "      <td>UK</td>\n",
       "      <td>2039</td>\n",
       "      <td>Valentina</td>\n",
       "      <td>-2</td>\n",
       "      <td>12288</td>\n",
       "      <td>105</td>\n",
       "      <td>No</td>\n",
       "      <td>12</td>\n",
       "      <td>Retail Park</td>\n",
       "      <td>1595638</td>\n",
       "      <td>1281661</td>\n",
       "      <td>1104490</td>\n",
       "      <td>1011395</td>\n",
       "      <td>11</td>\n",
       "      <td>219</td>\n",
       "      <td>13</td>\n",
       "      <td>18</td>\n",
       "      <td>Bad</td>\n",
       "    </tr>\n",
       "    <tr>\n",
       "      <th>3</th>\n",
       "      <td>Stratton</td>\n",
       "      <td>UK</td>\n",
       "      <td>2055</td>\n",
       "      <td>Antonia</td>\n",
       "      <td>7</td>\n",
       "      <td>17092</td>\n",
       "      <td>117</td>\n",
       "      <td>No</td>\n",
       "      <td>14</td>\n",
       "      <td>High Street</td>\n",
       "      <td>1179395</td>\n",
       "      <td>1022959</td>\n",
       "      <td>1009496</td>\n",
       "      <td>1002169</td>\n",
       "      <td>5</td>\n",
       "      <td>261</td>\n",
       "      <td>15</td>\n",
       "      <td>12</td>\n",
       "      <td>Bad</td>\n",
       "    </tr>\n",
       "    <tr>\n",
       "      <th>4</th>\n",
       "      <td>Shepperton</td>\n",
       "      <td>UK</td>\n",
       "      <td>2141</td>\n",
       "      <td>Gabriel</td>\n",
       "      <td>7</td>\n",
       "      <td>11307</td>\n",
       "      <td>103</td>\n",
       "      <td>No</td>\n",
       "      <td>18</td>\n",
       "      <td>Retail Park</td>\n",
       "      <td>1398558</td>\n",
       "      <td>1085170</td>\n",
       "      <td>1003137</td>\n",
       "      <td>1002513</td>\n",
       "      <td>7</td>\n",
       "      <td>200</td>\n",
       "      <td>19</td>\n",
       "      <td>13</td>\n",
       "      <td>Bad</td>\n",
       "    </tr>\n",
       "  </tbody>\n",
       "</table>\n",
       "</div>"
      ],
      "text/plain": [
       "                            Town Country  Store ID Manager name  Staff  \\\n",
       "0   Swinton (Greater Manchester)      UK      1437        Roger      9   \n",
       "1                       Stamford      UK      1544         Ella      8   \n",
       "2                        Skipton      UK      2039    Valentina     -2   \n",
       "3                       Stratton      UK      2055      Antonia      7   \n",
       "4                     Shepperton      UK      2141      Gabriel      7   \n",
       "\n",
       "   Floor Space  Window Car park  Demographic score         Location  \\\n",
       "0        18526     121      Yes                 10      Retail Park   \n",
       "1        18569     121      Yes                 11  Shopping Centre   \n",
       "2        12288     105       No                 12      Retail Park   \n",
       "3        17092     117       No                 14      High Street   \n",
       "4        11307     103       No                 18      Retail Park   \n",
       "\n",
       "   40min population  30 min population  20 min population  10 min population  \\\n",
       "0           1288374            1138224            1006986            1002340   \n",
       "1           1086225            1015321            1012182            1008436   \n",
       "2           1595638            1281661            1104490            1011395   \n",
       "3           1179395            1022959            1009496            1002169   \n",
       "4           1398558            1085170            1003137            1002513   \n",
       "\n",
       "   Store age  Clearance space  Competition number  Competition score  \\\n",
       "0          3              238                  16                 16   \n",
       "1          4              384                  15                 19   \n",
       "2         11              219                  13                 18   \n",
       "3          5              261                  15                 12   \n",
       "4          7              200                  19                 13   \n",
       "\n",
       "  Performance  \n",
       "0        Good  \n",
       "1        Good  \n",
       "2         Bad  \n",
       "3         Bad  \n",
       "4         Bad  "
      ]
     },
     "execution_count": 3,
     "metadata": {},
     "output_type": "execute_result"
    }
   ],
   "source": [
    "store_data.head() #show data form top"
   ]
  },
  {
   "cell_type": "code",
   "execution_count": 4,
   "id": "a766a7da",
   "metadata": {},
   "outputs": [
    {
     "data": {
      "text/html": [
       "<div>\n",
       "<style scoped>\n",
       "    .dataframe tbody tr th:only-of-type {\n",
       "        vertical-align: middle;\n",
       "    }\n",
       "\n",
       "    .dataframe tbody tr th {\n",
       "        vertical-align: top;\n",
       "    }\n",
       "\n",
       "    .dataframe thead th {\n",
       "        text-align: right;\n",
       "    }\n",
       "</style>\n",
       "<table border=\"1\" class=\"dataframe\">\n",
       "  <thead>\n",
       "    <tr style=\"text-align: right;\">\n",
       "      <th></th>\n",
       "      <th>Town</th>\n",
       "      <th>Country</th>\n",
       "      <th>Store ID</th>\n",
       "      <th>Manager name</th>\n",
       "      <th>Staff</th>\n",
       "      <th>Floor Space</th>\n",
       "      <th>Window</th>\n",
       "      <th>Car park</th>\n",
       "      <th>Demographic score</th>\n",
       "      <th>Location</th>\n",
       "      <th>40min population</th>\n",
       "      <th>30 min population</th>\n",
       "      <th>20 min population</th>\n",
       "      <th>10 min population</th>\n",
       "      <th>Store age</th>\n",
       "      <th>Clearance space</th>\n",
       "      <th>Competition number</th>\n",
       "      <th>Competition score</th>\n",
       "      <th>Performance</th>\n",
       "    </tr>\n",
       "  </thead>\n",
       "  <tbody>\n",
       "    <tr>\n",
       "      <th>131</th>\n",
       "      <td>South Benfleet</td>\n",
       "      <td>UK</td>\n",
       "      <td>96853</td>\n",
       "      <td>Vitï¿½ria</td>\n",
       "      <td>7</td>\n",
       "      <td>14120</td>\n",
       "      <td>110</td>\n",
       "      <td>Yes</td>\n",
       "      <td>13</td>\n",
       "      <td>Retail Park</td>\n",
       "      <td>1665074</td>\n",
       "      <td>1240813</td>\n",
       "      <td>1141898</td>\n",
       "      <td>1041041</td>\n",
       "      <td>6</td>\n",
       "      <td>202</td>\n",
       "      <td>18</td>\n",
       "      <td>14</td>\n",
       "      <td>Bad</td>\n",
       "    </tr>\n",
       "    <tr>\n",
       "      <th>132</th>\n",
       "      <td>Sandy</td>\n",
       "      <td>UK</td>\n",
       "      <td>96858</td>\n",
       "      <td>Matï¿½as</td>\n",
       "      <td>6</td>\n",
       "      <td>11205</td>\n",
       "      <td>103</td>\n",
       "      <td>No</td>\n",
       "      <td>15</td>\n",
       "      <td>Shopping Centre</td>\n",
       "      <td>1657769</td>\n",
       "      <td>1424404</td>\n",
       "      <td>1378708</td>\n",
       "      <td>1160929</td>\n",
       "      <td>5</td>\n",
       "      <td>203</td>\n",
       "      <td>13</td>\n",
       "      <td>18</td>\n",
       "      <td>Bad</td>\n",
       "    </tr>\n",
       "    <tr>\n",
       "      <th>133</th>\n",
       "      <td>Sheerness</td>\n",
       "      <td>UK</td>\n",
       "      <td>98062</td>\n",
       "      <td>Gustavo</td>\n",
       "      <td>7</td>\n",
       "      <td>16190</td>\n",
       "      <td>115</td>\n",
       "      <td>No</td>\n",
       "      <td>19</td>\n",
       "      <td>Shopping Centre</td>\n",
       "      <td>1407456</td>\n",
       "      <td>1359511</td>\n",
       "      <td>1200486</td>\n",
       "      <td>1063718</td>\n",
       "      <td>7</td>\n",
       "      <td>341</td>\n",
       "      <td>18</td>\n",
       "      <td>18</td>\n",
       "      <td>Bad</td>\n",
       "    </tr>\n",
       "    <tr>\n",
       "      <th>134</th>\n",
       "      <td>Salford</td>\n",
       "      <td>UK</td>\n",
       "      <td>98923</td>\n",
       "      <td>Rafael</td>\n",
       "      <td>6</td>\n",
       "      <td>15516</td>\n",
       "      <td>113</td>\n",
       "      <td>No</td>\n",
       "      <td>17</td>\n",
       "      <td>High Street</td>\n",
       "      <td>1451087</td>\n",
       "      <td>1245725</td>\n",
       "      <td>1127276</td>\n",
       "      <td>1045154</td>\n",
       "      <td>11</td>\n",
       "      <td>261</td>\n",
       "      <td>14</td>\n",
       "      <td>10</td>\n",
       "      <td>Bad</td>\n",
       "    </tr>\n",
       "    <tr>\n",
       "      <th>135</th>\n",
       "      <td>Stapleford</td>\n",
       "      <td>UK</td>\n",
       "      <td>99854</td>\n",
       "      <td>Lea</td>\n",
       "      <td>9</td>\n",
       "      <td>14468</td>\n",
       "      <td>111</td>\n",
       "      <td>Yes</td>\n",
       "      <td>18</td>\n",
       "      <td>High Street</td>\n",
       "      <td>1706344</td>\n",
       "      <td>1307752</td>\n",
       "      <td>1159859</td>\n",
       "      <td>1020940</td>\n",
       "      <td>8</td>\n",
       "      <td>276</td>\n",
       "      <td>18</td>\n",
       "      <td>13</td>\n",
       "      <td>Good</td>\n",
       "    </tr>\n",
       "  </tbody>\n",
       "</table>\n",
       "</div>"
      ],
      "text/plain": [
       "                Town Country  Store ID Manager name  Staff  Floor Space  \\\n",
       "131   South Benfleet      UK     96853    Vitï¿½ria      7        14120   \n",
       "132            Sandy      UK     96858     Matï¿½as      6        11205   \n",
       "133        Sheerness      UK     98062      Gustavo      7        16190   \n",
       "134          Salford      UK     98923       Rafael      6        15516   \n",
       "135       Stapleford      UK     99854          Lea      9        14468   \n",
       "\n",
       "     Window Car park  Demographic score         Location  40min population  \\\n",
       "131     110      Yes                 13      Retail Park           1665074   \n",
       "132     103       No                 15  Shopping Centre           1657769   \n",
       "133     115       No                 19  Shopping Centre           1407456   \n",
       "134     113       No                 17      High Street           1451087   \n",
       "135     111      Yes                 18      High Street           1706344   \n",
       "\n",
       "     30 min population  20 min population  10 min population  Store age  \\\n",
       "131            1240813            1141898            1041041          6   \n",
       "132            1424404            1378708            1160929          5   \n",
       "133            1359511            1200486            1063718          7   \n",
       "134            1245725            1127276            1045154         11   \n",
       "135            1307752            1159859            1020940          8   \n",
       "\n",
       "     Clearance space  Competition number  Competition score Performance  \n",
       "131              202                  18                 14         Bad  \n",
       "132              203                  13                 18         Bad  \n",
       "133              341                  18                 18         Bad  \n",
       "134              261                  14                 10         Bad  \n",
       "135              276                  18                 13        Good  "
      ]
     },
     "execution_count": 4,
     "metadata": {},
     "output_type": "execute_result"
    }
   ],
   "source": [
    "store_data.tail() #show data from last "
   ]
  },
  {
   "cell_type": "code",
   "execution_count": 5,
   "id": "c25bff1e",
   "metadata": {},
   "outputs": [
    {
     "data": {
      "text/plain": [
       "Index(['Town', 'Country', 'Store ID', 'Manager name', 'Staff', 'Floor Space',\n",
       "       'Window', 'Car park', 'Demographic score', 'Location',\n",
       "       '40min population', '30 min population', '20 min population',\n",
       "       '10 min population', 'Store age', 'Clearance space',\n",
       "       'Competition number', 'Competition score', 'Performance'],\n",
       "      dtype='object')"
      ]
     },
     "execution_count": 5,
     "metadata": {},
     "output_type": "execute_result"
    }
   ],
   "source": [
    "store_data.columns"
   ]
  },
  {
   "cell_type": "code",
   "execution_count": 6,
   "id": "1430bbf7",
   "metadata": {},
   "outputs": [
    {
     "data": {
      "text/plain": [
       "(136, 19)"
      ]
     },
     "execution_count": 6,
     "metadata": {},
     "output_type": "execute_result"
    }
   ],
   "source": [
    "store_data.shape"
   ]
  },
  {
   "cell_type": "code",
   "execution_count": 7,
   "id": "0a2feb2a",
   "metadata": {},
   "outputs": [
    {
     "name": "stdout",
     "output_type": "stream",
     "text": [
      "<class 'pandas.core.frame.DataFrame'>\n",
      "RangeIndex: 136 entries, 0 to 135\n",
      "Data columns (total 19 columns):\n",
      " #   Column              Non-Null Count  Dtype \n",
      "---  ------              --------------  ----- \n",
      " 0   Town                136 non-null    object\n",
      " 1   Country             136 non-null    object\n",
      " 2   Store ID            136 non-null    int64 \n",
      " 3   Manager name        136 non-null    object\n",
      " 4   Staff               136 non-null    int64 \n",
      " 5   Floor Space         136 non-null    int64 \n",
      " 6   Window              136 non-null    int64 \n",
      " 7   Car park            136 non-null    object\n",
      " 8   Demographic score   136 non-null    int64 \n",
      " 9   Location            136 non-null    object\n",
      " 10  40min population    136 non-null    int64 \n",
      " 11  30 min population   136 non-null    int64 \n",
      " 12  20 min population   136 non-null    int64 \n",
      " 13  10 min population   136 non-null    int64 \n",
      " 14  Store age           136 non-null    int64 \n",
      " 15  Clearance space     136 non-null    int64 \n",
      " 16  Competition number  136 non-null    int64 \n",
      " 17  Competition score   136 non-null    int64 \n",
      " 18  Performance         136 non-null    object\n",
      "dtypes: int64(13), object(6)\n",
      "memory usage: 20.3+ KB\n"
     ]
    }
   ],
   "source": [
    "store_data.info()"
   ]
  },
  {
   "cell_type": "code",
   "execution_count": 8,
   "id": "9bbee016",
   "metadata": {},
   "outputs": [
    {
     "data": {
      "text/plain": [
       "Town                  0\n",
       "Country               0\n",
       "Store ID              0\n",
       "Manager name          0\n",
       "Staff                 0\n",
       "Floor Space           0\n",
       "Window                0\n",
       "Car park              0\n",
       "Demographic score     0\n",
       "Location              0\n",
       "40min population      0\n",
       "30 min population     0\n",
       "20 min population     0\n",
       "10 min population     0\n",
       "Store age             0\n",
       "Clearance space       0\n",
       "Competition number    0\n",
       "Competition score     0\n",
       "Performance           0\n",
       "dtype: int64"
      ]
     },
     "execution_count": 8,
     "metadata": {},
     "output_type": "execute_result"
    }
   ],
   "source": [
    "store_data.isnull().sum()"
   ]
  },
  {
   "cell_type": "code",
   "execution_count": 9,
   "id": "9a0da11a",
   "metadata": {},
   "outputs": [
    {
     "data": {
      "text/html": [
       "<div>\n",
       "<style scoped>\n",
       "    .dataframe tbody tr th:only-of-type {\n",
       "        vertical-align: middle;\n",
       "    }\n",
       "\n",
       "    .dataframe tbody tr th {\n",
       "        vertical-align: top;\n",
       "    }\n",
       "\n",
       "    .dataframe thead th {\n",
       "        text-align: right;\n",
       "    }\n",
       "</style>\n",
       "<table border=\"1\" class=\"dataframe\">\n",
       "  <thead>\n",
       "    <tr style=\"text-align: right;\">\n",
       "      <th></th>\n",
       "      <th>Store ID</th>\n",
       "      <th>Staff</th>\n",
       "      <th>Floor Space</th>\n",
       "      <th>Window</th>\n",
       "      <th>Demographic score</th>\n",
       "      <th>40min population</th>\n",
       "      <th>30 min population</th>\n",
       "      <th>20 min population</th>\n",
       "      <th>10 min population</th>\n",
       "      <th>Store age</th>\n",
       "      <th>Clearance space</th>\n",
       "      <th>Competition number</th>\n",
       "      <th>Competition score</th>\n",
       "    </tr>\n",
       "  </thead>\n",
       "  <tbody>\n",
       "    <tr>\n",
       "      <th>count</th>\n",
       "      <td>136.000000</td>\n",
       "      <td>136.000000</td>\n",
       "      <td>136.000000</td>\n",
       "      <td>136.000000</td>\n",
       "      <td>136.000000</td>\n",
       "      <td>1.360000e+02</td>\n",
       "      <td>1.360000e+02</td>\n",
       "      <td>1.360000e+02</td>\n",
       "      <td>1.360000e+02</td>\n",
       "      <td>136.000000</td>\n",
       "      <td>136.000000</td>\n",
       "      <td>136.000000</td>\n",
       "      <td>136.000000</td>\n",
       "    </tr>\n",
       "    <tr>\n",
       "      <th>mean</th>\n",
       "      <td>52172.580882</td>\n",
       "      <td>13.352941</td>\n",
       "      <td>15024.095588</td>\n",
       "      <td>112.044118</td>\n",
       "      <td>14.463235</td>\n",
       "      <td>1.487374e+06</td>\n",
       "      <td>1.249870e+06</td>\n",
       "      <td>1.134533e+06</td>\n",
       "      <td>1.066118e+06</td>\n",
       "      <td>6.529412</td>\n",
       "      <td>262.426471</td>\n",
       "      <td>14.463235</td>\n",
       "      <td>14.808824</td>\n",
       "    </tr>\n",
       "    <tr>\n",
       "      <th>std</th>\n",
       "      <td>28725.990237</td>\n",
       "      <td>56.592439</td>\n",
       "      <td>2761.801921</td>\n",
       "      <td>6.884085</td>\n",
       "      <td>2.874944</td>\n",
       "      <td>2.804989e+05</td>\n",
       "      <td>2.160875e+05</td>\n",
       "      <td>1.490280e+05</td>\n",
       "      <td>8.884585e+04</td>\n",
       "      <td>2.815147</td>\n",
       "      <td>51.724288</td>\n",
       "      <td>2.895483</td>\n",
       "      <td>2.955258</td>\n",
       "    </tr>\n",
       "    <tr>\n",
       "      <th>min</th>\n",
       "      <td>1437.000000</td>\n",
       "      <td>-2.000000</td>\n",
       "      <td>10072.000000</td>\n",
       "      <td>100.000000</td>\n",
       "      <td>10.000000</td>\n",
       "      <td>1.030405e+06</td>\n",
       "      <td>1.000653e+06</td>\n",
       "      <td>1.000214e+06</td>\n",
       "      <td>1.000002e+06</td>\n",
       "      <td>2.000000</td>\n",
       "      <td>200.000000</td>\n",
       "      <td>10.000000</td>\n",
       "      <td>10.000000</td>\n",
       "    </tr>\n",
       "    <tr>\n",
       "      <th>25%</th>\n",
       "      <td>24707.250000</td>\n",
       "      <td>6.000000</td>\n",
       "      <td>12793.000000</td>\n",
       "      <td>106.750000</td>\n",
       "      <td>12.000000</td>\n",
       "      <td>1.254949e+06</td>\n",
       "      <td>1.057284e+06</td>\n",
       "      <td>1.012573e+06</td>\n",
       "      <td>1.005593e+06</td>\n",
       "      <td>4.000000</td>\n",
       "      <td>220.750000</td>\n",
       "      <td>12.000000</td>\n",
       "      <td>13.000000</td>\n",
       "    </tr>\n",
       "    <tr>\n",
       "      <th>50%</th>\n",
       "      <td>56011.500000</td>\n",
       "      <td>7.000000</td>\n",
       "      <td>14596.500000</td>\n",
       "      <td>111.000000</td>\n",
       "      <td>14.500000</td>\n",
       "      <td>1.516338e+06</td>\n",
       "      <td>1.214459e+06</td>\n",
       "      <td>1.077542e+06</td>\n",
       "      <td>1.033228e+06</td>\n",
       "      <td>6.000000</td>\n",
       "      <td>249.000000</td>\n",
       "      <td>15.000000</td>\n",
       "      <td>15.000000</td>\n",
       "    </tr>\n",
       "    <tr>\n",
       "      <th>75%</th>\n",
       "      <td>76870.500000</td>\n",
       "      <td>8.000000</td>\n",
       "      <td>17543.750000</td>\n",
       "      <td>118.000000</td>\n",
       "      <td>17.000000</td>\n",
       "      <td>1.696352e+06</td>\n",
       "      <td>1.396967e+06</td>\n",
       "      <td>1.203077e+06</td>\n",
       "      <td>1.090349e+06</td>\n",
       "      <td>9.000000</td>\n",
       "      <td>292.250000</td>\n",
       "      <td>17.000000</td>\n",
       "      <td>18.000000</td>\n",
       "    </tr>\n",
       "    <tr>\n",
       "      <th>max</th>\n",
       "      <td>99854.000000</td>\n",
       "      <td>600.000000</td>\n",
       "      <td>19869.000000</td>\n",
       "      <td>124.000000</td>\n",
       "      <td>19.000000</td>\n",
       "      <td>1.997044e+06</td>\n",
       "      <td>1.929089e+06</td>\n",
       "      <td>1.723395e+06</td>\n",
       "      <td>1.426533e+06</td>\n",
       "      <td>11.000000</td>\n",
       "      <td>408.000000</td>\n",
       "      <td>19.000000</td>\n",
       "      <td>19.000000</td>\n",
       "    </tr>\n",
       "  </tbody>\n",
       "</table>\n",
       "</div>"
      ],
      "text/plain": [
       "           Store ID       Staff   Floor Space      Window  Demographic score  \\\n",
       "count    136.000000  136.000000    136.000000  136.000000         136.000000   \n",
       "mean   52172.580882   13.352941  15024.095588  112.044118          14.463235   \n",
       "std    28725.990237   56.592439   2761.801921    6.884085           2.874944   \n",
       "min     1437.000000   -2.000000  10072.000000  100.000000          10.000000   \n",
       "25%    24707.250000    6.000000  12793.000000  106.750000          12.000000   \n",
       "50%    56011.500000    7.000000  14596.500000  111.000000          14.500000   \n",
       "75%    76870.500000    8.000000  17543.750000  118.000000          17.000000   \n",
       "max    99854.000000  600.000000  19869.000000  124.000000          19.000000   \n",
       "\n",
       "       40min population  30 min population  20 min population  \\\n",
       "count      1.360000e+02       1.360000e+02       1.360000e+02   \n",
       "mean       1.487374e+06       1.249870e+06       1.134533e+06   \n",
       "std        2.804989e+05       2.160875e+05       1.490280e+05   \n",
       "min        1.030405e+06       1.000653e+06       1.000214e+06   \n",
       "25%        1.254949e+06       1.057284e+06       1.012573e+06   \n",
       "50%        1.516338e+06       1.214459e+06       1.077542e+06   \n",
       "75%        1.696352e+06       1.396967e+06       1.203077e+06   \n",
       "max        1.997044e+06       1.929089e+06       1.723395e+06   \n",
       "\n",
       "       10 min population   Store age  Clearance space  Competition number  \\\n",
       "count       1.360000e+02  136.000000       136.000000          136.000000   \n",
       "mean        1.066118e+06    6.529412       262.426471           14.463235   \n",
       "std         8.884585e+04    2.815147        51.724288            2.895483   \n",
       "min         1.000002e+06    2.000000       200.000000           10.000000   \n",
       "25%         1.005593e+06    4.000000       220.750000           12.000000   \n",
       "50%         1.033228e+06    6.000000       249.000000           15.000000   \n",
       "75%         1.090349e+06    9.000000       292.250000           17.000000   \n",
       "max         1.426533e+06   11.000000       408.000000           19.000000   \n",
       "\n",
       "       Competition score  \n",
       "count         136.000000  \n",
       "mean           14.808824  \n",
       "std             2.955258  \n",
       "min            10.000000  \n",
       "25%            13.000000  \n",
       "50%            15.000000  \n",
       "75%            18.000000  \n",
       "max            19.000000  "
      ]
     },
     "execution_count": 9,
     "metadata": {},
     "output_type": "execute_result"
    }
   ],
   "source": [
    "store_data.describe()"
   ]
  },
  {
   "cell_type": "code",
   "execution_count": 10,
   "id": "35e0634a",
   "metadata": {},
   "outputs": [
    {
     "data": {
      "text/plain": [
       "Good    69\n",
       "Bad     67\n",
       "Name: Performance, dtype: int64"
      ]
     },
     "execution_count": 10,
     "metadata": {},
     "output_type": "execute_result"
    }
   ],
   "source": [
    "store_data['Performance'].value_counts()"
   ]
  },
  {
   "cell_type": "code",
   "execution_count": 11,
   "id": "b3f6dcde",
   "metadata": {},
   "outputs": [
    {
     "data": {
      "text/html": [
       "<div>\n",
       "<style scoped>\n",
       "    .dataframe tbody tr th:only-of-type {\n",
       "        vertical-align: middle;\n",
       "    }\n",
       "\n",
       "    .dataframe tbody tr th {\n",
       "        vertical-align: top;\n",
       "    }\n",
       "\n",
       "    .dataframe thead th {\n",
       "        text-align: right;\n",
       "    }\n",
       "</style>\n",
       "<table border=\"1\" class=\"dataframe\">\n",
       "  <thead>\n",
       "    <tr style=\"text-align: right;\">\n",
       "      <th></th>\n",
       "      <th>count</th>\n",
       "      <th>mean</th>\n",
       "      <th>std</th>\n",
       "      <th>min</th>\n",
       "      <th>25%</th>\n",
       "      <th>50%</th>\n",
       "      <th>75%</th>\n",
       "      <th>max</th>\n",
       "    </tr>\n",
       "  </thead>\n",
       "  <tbody>\n",
       "    <tr>\n",
       "      <th>Store ID</th>\n",
       "      <td>136.0</td>\n",
       "      <td>5.217258e+04</td>\n",
       "      <td>28725.990237</td>\n",
       "      <td>1437.0</td>\n",
       "      <td>24707.25</td>\n",
       "      <td>56011.5</td>\n",
       "      <td>76870.50</td>\n",
       "      <td>99854.0</td>\n",
       "    </tr>\n",
       "    <tr>\n",
       "      <th>Staff</th>\n",
       "      <td>136.0</td>\n",
       "      <td>1.335294e+01</td>\n",
       "      <td>56.592439</td>\n",
       "      <td>-2.0</td>\n",
       "      <td>6.00</td>\n",
       "      <td>7.0</td>\n",
       "      <td>8.00</td>\n",
       "      <td>600.0</td>\n",
       "    </tr>\n",
       "    <tr>\n",
       "      <th>Floor Space</th>\n",
       "      <td>136.0</td>\n",
       "      <td>1.502410e+04</td>\n",
       "      <td>2761.801921</td>\n",
       "      <td>10072.0</td>\n",
       "      <td>12793.00</td>\n",
       "      <td>14596.5</td>\n",
       "      <td>17543.75</td>\n",
       "      <td>19869.0</td>\n",
       "    </tr>\n",
       "    <tr>\n",
       "      <th>Window</th>\n",
       "      <td>136.0</td>\n",
       "      <td>1.120441e+02</td>\n",
       "      <td>6.884085</td>\n",
       "      <td>100.0</td>\n",
       "      <td>106.75</td>\n",
       "      <td>111.0</td>\n",
       "      <td>118.00</td>\n",
       "      <td>124.0</td>\n",
       "    </tr>\n",
       "    <tr>\n",
       "      <th>Demographic score</th>\n",
       "      <td>136.0</td>\n",
       "      <td>1.446324e+01</td>\n",
       "      <td>2.874944</td>\n",
       "      <td>10.0</td>\n",
       "      <td>12.00</td>\n",
       "      <td>14.5</td>\n",
       "      <td>17.00</td>\n",
       "      <td>19.0</td>\n",
       "    </tr>\n",
       "    <tr>\n",
       "      <th>40min population</th>\n",
       "      <td>136.0</td>\n",
       "      <td>1.487374e+06</td>\n",
       "      <td>280498.938383</td>\n",
       "      <td>1030405.0</td>\n",
       "      <td>1254949.25</td>\n",
       "      <td>1516337.5</td>\n",
       "      <td>1696352.50</td>\n",
       "      <td>1997044.0</td>\n",
       "    </tr>\n",
       "    <tr>\n",
       "      <th>30 min population</th>\n",
       "      <td>136.0</td>\n",
       "      <td>1.249870e+06</td>\n",
       "      <td>216087.516523</td>\n",
       "      <td>1000653.0</td>\n",
       "      <td>1057284.00</td>\n",
       "      <td>1214459.0</td>\n",
       "      <td>1396966.75</td>\n",
       "      <td>1929089.0</td>\n",
       "    </tr>\n",
       "    <tr>\n",
       "      <th>20 min population</th>\n",
       "      <td>136.0</td>\n",
       "      <td>1.134533e+06</td>\n",
       "      <td>149027.970296</td>\n",
       "      <td>1000214.0</td>\n",
       "      <td>1012572.75</td>\n",
       "      <td>1077542.0</td>\n",
       "      <td>1203076.75</td>\n",
       "      <td>1723395.0</td>\n",
       "    </tr>\n",
       "    <tr>\n",
       "      <th>10 min population</th>\n",
       "      <td>136.0</td>\n",
       "      <td>1.066118e+06</td>\n",
       "      <td>88845.853887</td>\n",
       "      <td>1000002.0</td>\n",
       "      <td>1005593.00</td>\n",
       "      <td>1033228.5</td>\n",
       "      <td>1090349.00</td>\n",
       "      <td>1426533.0</td>\n",
       "    </tr>\n",
       "    <tr>\n",
       "      <th>Store age</th>\n",
       "      <td>136.0</td>\n",
       "      <td>6.529412e+00</td>\n",
       "      <td>2.815147</td>\n",
       "      <td>2.0</td>\n",
       "      <td>4.00</td>\n",
       "      <td>6.0</td>\n",
       "      <td>9.00</td>\n",
       "      <td>11.0</td>\n",
       "    </tr>\n",
       "    <tr>\n",
       "      <th>Clearance space</th>\n",
       "      <td>136.0</td>\n",
       "      <td>2.624265e+02</td>\n",
       "      <td>51.724288</td>\n",
       "      <td>200.0</td>\n",
       "      <td>220.75</td>\n",
       "      <td>249.0</td>\n",
       "      <td>292.25</td>\n",
       "      <td>408.0</td>\n",
       "    </tr>\n",
       "    <tr>\n",
       "      <th>Competition number</th>\n",
       "      <td>136.0</td>\n",
       "      <td>1.446324e+01</td>\n",
       "      <td>2.895483</td>\n",
       "      <td>10.0</td>\n",
       "      <td>12.00</td>\n",
       "      <td>15.0</td>\n",
       "      <td>17.00</td>\n",
       "      <td>19.0</td>\n",
       "    </tr>\n",
       "    <tr>\n",
       "      <th>Competition score</th>\n",
       "      <td>136.0</td>\n",
       "      <td>1.480882e+01</td>\n",
       "      <td>2.955258</td>\n",
       "      <td>10.0</td>\n",
       "      <td>13.00</td>\n",
       "      <td>15.0</td>\n",
       "      <td>18.00</td>\n",
       "      <td>19.0</td>\n",
       "    </tr>\n",
       "  </tbody>\n",
       "</table>\n",
       "</div>"
      ],
      "text/plain": [
       "                    count          mean            std        min         25%  \\\n",
       "Store ID            136.0  5.217258e+04   28725.990237     1437.0    24707.25   \n",
       "Staff               136.0  1.335294e+01      56.592439       -2.0        6.00   \n",
       "Floor Space         136.0  1.502410e+04    2761.801921    10072.0    12793.00   \n",
       "Window              136.0  1.120441e+02       6.884085      100.0      106.75   \n",
       "Demographic score   136.0  1.446324e+01       2.874944       10.0       12.00   \n",
       "40min population    136.0  1.487374e+06  280498.938383  1030405.0  1254949.25   \n",
       "30 min population   136.0  1.249870e+06  216087.516523  1000653.0  1057284.00   \n",
       "20 min population   136.0  1.134533e+06  149027.970296  1000214.0  1012572.75   \n",
       "10 min population   136.0  1.066118e+06   88845.853887  1000002.0  1005593.00   \n",
       "Store age           136.0  6.529412e+00       2.815147        2.0        4.00   \n",
       "Clearance space     136.0  2.624265e+02      51.724288      200.0      220.75   \n",
       "Competition number  136.0  1.446324e+01       2.895483       10.0       12.00   \n",
       "Competition score   136.0  1.480882e+01       2.955258       10.0       13.00   \n",
       "\n",
       "                          50%         75%        max  \n",
       "Store ID              56011.5    76870.50    99854.0  \n",
       "Staff                     7.0        8.00      600.0  \n",
       "Floor Space           14596.5    17543.75    19869.0  \n",
       "Window                  111.0      118.00      124.0  \n",
       "Demographic score        14.5       17.00       19.0  \n",
       "40min population    1516337.5  1696352.50  1997044.0  \n",
       "30 min population   1214459.0  1396966.75  1929089.0  \n",
       "20 min population   1077542.0  1203076.75  1723395.0  \n",
       "10 min population   1033228.5  1090349.00  1426533.0  \n",
       "Store age                 6.0        9.00       11.0  \n",
       "Clearance space         249.0      292.25      408.0  \n",
       "Competition number       15.0       17.00       19.0  \n",
       "Competition score        15.0       18.00       19.0  "
      ]
     },
     "execution_count": 11,
     "metadata": {},
     "output_type": "execute_result"
    }
   ],
   "source": [
    "store_data.describe().T"
   ]
  },
  {
   "cell_type": "code",
   "execution_count": 12,
   "id": "d3cbf3e8",
   "metadata": {},
   "outputs": [
    {
     "data": {
      "text/plain": [
       "UK        134\n",
       "France      2\n",
       "Name: Country, dtype: int64"
      ]
     },
     "execution_count": 12,
     "metadata": {},
     "output_type": "execute_result"
    }
   ],
   "source": [
    "store_data['Country'].value_counts()"
   ]
  },
  {
   "cell_type": "markdown",
   "id": "47950577",
   "metadata": {},
   "source": [
    "# Exploratory Data Analysis"
   ]
  },
  {
   "cell_type": "code",
   "execution_count": 13,
   "id": "8c3ab6f1",
   "metadata": {},
   "outputs": [
    {
     "data": {
      "text/html": [
       "<div>\n",
       "<style scoped>\n",
       "    .dataframe tbody tr th:only-of-type {\n",
       "        vertical-align: middle;\n",
       "    }\n",
       "\n",
       "    .dataframe tbody tr th {\n",
       "        vertical-align: top;\n",
       "    }\n",
       "\n",
       "    .dataframe thead th {\n",
       "        text-align: right;\n",
       "    }\n",
       "</style>\n",
       "<table border=\"1\" class=\"dataframe\">\n",
       "  <thead>\n",
       "    <tr style=\"text-align: right;\">\n",
       "      <th></th>\n",
       "      <th>Town</th>\n",
       "      <th>Country</th>\n",
       "      <th>Store ID</th>\n",
       "      <th>Manager name</th>\n",
       "      <th>Staff</th>\n",
       "      <th>Floor Space</th>\n",
       "      <th>Window</th>\n",
       "      <th>Car park</th>\n",
       "      <th>Demographic score</th>\n",
       "      <th>Location</th>\n",
       "      <th>40min population</th>\n",
       "      <th>30 min population</th>\n",
       "      <th>20 min population</th>\n",
       "      <th>10 min population</th>\n",
       "      <th>Store age</th>\n",
       "      <th>Clearance space</th>\n",
       "      <th>Competition number</th>\n",
       "      <th>Competition score</th>\n",
       "      <th>Performance</th>\n",
       "    </tr>\n",
       "  </thead>\n",
       "  <tbody>\n",
       "    <tr>\n",
       "      <th>0</th>\n",
       "      <td>Swinton (Greater Manchester)</td>\n",
       "      <td>UK</td>\n",
       "      <td>1437</td>\n",
       "      <td>Roger</td>\n",
       "      <td>9</td>\n",
       "      <td>18526</td>\n",
       "      <td>121</td>\n",
       "      <td>Yes</td>\n",
       "      <td>10</td>\n",
       "      <td>Retail Park</td>\n",
       "      <td>1288374</td>\n",
       "      <td>1138224</td>\n",
       "      <td>1006986</td>\n",
       "      <td>1002340</td>\n",
       "      <td>3</td>\n",
       "      <td>238</td>\n",
       "      <td>16</td>\n",
       "      <td>16</td>\n",
       "      <td>Good</td>\n",
       "    </tr>\n",
       "    <tr>\n",
       "      <th>1</th>\n",
       "      <td>Stamford</td>\n",
       "      <td>UK</td>\n",
       "      <td>1544</td>\n",
       "      <td>Ella</td>\n",
       "      <td>8</td>\n",
       "      <td>18569</td>\n",
       "      <td>121</td>\n",
       "      <td>Yes</td>\n",
       "      <td>11</td>\n",
       "      <td>Shopping Centre</td>\n",
       "      <td>1086225</td>\n",
       "      <td>1015321</td>\n",
       "      <td>1012182</td>\n",
       "      <td>1008436</td>\n",
       "      <td>4</td>\n",
       "      <td>384</td>\n",
       "      <td>15</td>\n",
       "      <td>19</td>\n",
       "      <td>Good</td>\n",
       "    </tr>\n",
       "    <tr>\n",
       "      <th>2</th>\n",
       "      <td>Skipton</td>\n",
       "      <td>UK</td>\n",
       "      <td>2039</td>\n",
       "      <td>Valentina</td>\n",
       "      <td>-2</td>\n",
       "      <td>12288</td>\n",
       "      <td>105</td>\n",
       "      <td>No</td>\n",
       "      <td>12</td>\n",
       "      <td>Retail Park</td>\n",
       "      <td>1595638</td>\n",
       "      <td>1281661</td>\n",
       "      <td>1104490</td>\n",
       "      <td>1011395</td>\n",
       "      <td>11</td>\n",
       "      <td>219</td>\n",
       "      <td>13</td>\n",
       "      <td>18</td>\n",
       "      <td>Bad</td>\n",
       "    </tr>\n",
       "    <tr>\n",
       "      <th>3</th>\n",
       "      <td>Stratton</td>\n",
       "      <td>UK</td>\n",
       "      <td>2055</td>\n",
       "      <td>Antonia</td>\n",
       "      <td>7</td>\n",
       "      <td>17092</td>\n",
       "      <td>117</td>\n",
       "      <td>No</td>\n",
       "      <td>14</td>\n",
       "      <td>High Street</td>\n",
       "      <td>1179395</td>\n",
       "      <td>1022959</td>\n",
       "      <td>1009496</td>\n",
       "      <td>1002169</td>\n",
       "      <td>5</td>\n",
       "      <td>261</td>\n",
       "      <td>15</td>\n",
       "      <td>12</td>\n",
       "      <td>Bad</td>\n",
       "    </tr>\n",
       "    <tr>\n",
       "      <th>4</th>\n",
       "      <td>Shepperton</td>\n",
       "      <td>UK</td>\n",
       "      <td>2141</td>\n",
       "      <td>Gabriel</td>\n",
       "      <td>7</td>\n",
       "      <td>11307</td>\n",
       "      <td>103</td>\n",
       "      <td>No</td>\n",
       "      <td>18</td>\n",
       "      <td>Retail Park</td>\n",
       "      <td>1398558</td>\n",
       "      <td>1085170</td>\n",
       "      <td>1003137</td>\n",
       "      <td>1002513</td>\n",
       "      <td>7</td>\n",
       "      <td>200</td>\n",
       "      <td>19</td>\n",
       "      <td>13</td>\n",
       "      <td>Bad</td>\n",
       "    </tr>\n",
       "  </tbody>\n",
       "</table>\n",
       "</div>"
      ],
      "text/plain": [
       "                            Town Country  Store ID Manager name  Staff  \\\n",
       "0   Swinton (Greater Manchester)      UK      1437        Roger      9   \n",
       "1                       Stamford      UK      1544         Ella      8   \n",
       "2                        Skipton      UK      2039    Valentina     -2   \n",
       "3                       Stratton      UK      2055      Antonia      7   \n",
       "4                     Shepperton      UK      2141      Gabriel      7   \n",
       "\n",
       "   Floor Space  Window Car park  Demographic score         Location  \\\n",
       "0        18526     121      Yes                 10      Retail Park   \n",
       "1        18569     121      Yes                 11  Shopping Centre   \n",
       "2        12288     105       No                 12      Retail Park   \n",
       "3        17092     117       No                 14      High Street   \n",
       "4        11307     103       No                 18      Retail Park   \n",
       "\n",
       "   40min population  30 min population  20 min population  10 min population  \\\n",
       "0           1288374            1138224            1006986            1002340   \n",
       "1           1086225            1015321            1012182            1008436   \n",
       "2           1595638            1281661            1104490            1011395   \n",
       "3           1179395            1022959            1009496            1002169   \n",
       "4           1398558            1085170            1003137            1002513   \n",
       "\n",
       "   Store age  Clearance space  Competition number  Competition score  \\\n",
       "0          3              238                  16                 16   \n",
       "1          4              384                  15                 19   \n",
       "2         11              219                  13                 18   \n",
       "3          5              261                  15                 12   \n",
       "4          7              200                  19                 13   \n",
       "\n",
       "  Performance  \n",
       "0        Good  \n",
       "1        Good  \n",
       "2         Bad  \n",
       "3         Bad  \n",
       "4         Bad  "
      ]
     },
     "execution_count": 13,
     "metadata": {},
     "output_type": "execute_result"
    }
   ],
   "source": [
    "store_data.head(5)"
   ]
  },
  {
   "cell_type": "code",
   "execution_count": 77,
   "id": "30cbc952",
   "metadata": {},
   "outputs": [],
   "source": [
    "import matplotlib.pyplot as plt\n",
    "import seaborn as sns\n",
    "%matplotlib inline"
   ]
  },
  {
   "cell_type": "code",
   "execution_count": 78,
   "id": "d5243022",
   "metadata": {},
   "outputs": [],
   "source": [
    "#Removing Warnings\n",
    "import warnings\n",
    "warnings.filterwarnings('ignore')\n"
   ]
  },
  {
   "cell_type": "code",
   "execution_count": 16,
   "id": "7dc8f5dd",
   "metadata": {},
   "outputs": [
    {
     "name": "stdout",
     "output_type": "stream",
     "text": [
      "Good    69\n",
      "Bad     67\n",
      "Name: Performance, dtype: int64\n"
     ]
    },
    {
     "data": {
      "image/png": "[encoded data removed]",
      "text/plain": [
       "<Figure size 432x288 with 1 Axes>"
      ]
     },
     "metadata": {},
     "output_type": "display_data"
    }
   ],
   "source": [
    "print(store_data['Performance'].value_counts())\n",
    "plt.pie(store_data['Performance'].value_counts())\n",
    "plt.pie(store_data['Performance'].value_counts(),labels=['Good','Bad'],colors=['#06CEFF','#FF2200'],autopct='%.1f%%')\n",
    "plt.legend()\n",
    "plt.show()"
   ]
  },
  {
   "cell_type": "markdown",
   "id": "512a5e21",
   "metadata": {},
   "source": [
    "In the above pie chat there is  an Perfomance in which 50.7% are Good Performance Data and 49.3% are Bad Performance Data"
   ]
  },
  {
   "cell_type": "code",
   "execution_count": 17,
   "id": "922eea46",
   "metadata": {},
   "outputs": [
    {
     "data": {
      "text/plain": [
       "<AxesSubplot:xlabel='Location', ylabel='count'>"
      ]
     },
     "execution_count": 17,
     "metadata": {},
     "output_type": "execute_result"
    },
    {
     "data": {
      "image/png": "[encoded data removed]",
      "text/plain": [
       "<Figure size 1296x864 with 2 Axes>"
      ]
     },
     "metadata": {
      "needs_background": "light"
     },
     "output_type": "display_data"
    }
   ],
   "source": [
    "#Count Plot\n",
    "fig = plt.figure(figsize = (18,12))\n",
    "\n",
    "ax1 = fig.add_subplot(2,3,1)\n",
    "sns.countplot(data = store_data, x = 'Car park', ax=ax1)\n",
    "\n",
    "ax2 = fig.add_subplot(2,3,2)\n",
    "sns.countplot(data = store_data, x = 'Location', ax=ax2)\n"
   ]
  },
  {
   "cell_type": "code",
   "execution_count": 18,
   "id": "56aeeefc",
   "metadata": {},
   "outputs": [
    {
     "data": {
      "image/png": "[encoded data removed]",
      "text/plain": [
       "<Figure size 432x288 with 1 Axes>"
      ]
     },
     "metadata": {
      "needs_background": "light"
     },
     "output_type": "display_data"
    }
   ],
   "source": [
    "#Sub Plot\n",
    "fig, ax = plt.subplots()\n",
    "\n",
    "ax.hist(store_data[store_data[\"Performance\"]=='Good'][\"Car park\"], bins=15, alpha=0.5, color=\"blue\", label=\"Good\")\n",
    "ax.hist(store_data[store_data[\"Performance\"]=='Bad'][\"Car park\"], bins=15, alpha=0.5, color=\"red\", label=\"Bad\")\n",
    "\n",
    "ax.set_xlabel(\"Car Park\")\n",
    "ax.set_ylabel(\"Performance\")\n",
    "\n",
    "fig.suptitle(\"Peformance vs. Car Park\")\n",
    "\n",
    "ax.legend();"
   ]
  },
  {
   "cell_type": "code",
   "execution_count": 19,
   "id": "598e6113",
   "metadata": {},
   "outputs": [
    {
     "data": {
      "image/png": "[encoded data removed]",
      "text/plain": [
       "<Figure size 432x288 with 1 Axes>"
      ]
     },
     "metadata": {
      "needs_background": "light"
     },
     "output_type": "display_data"
    }
   ],
   "source": [
    "store_data#Sub Plot\n",
    "fig, ax = plt.subplots()\n",
    "\n",
    "ax.hist(store_data[store_data[\"Performance\"]=='Good'][\"Location\"], bins=15, alpha=0.5, color=\"blue\", label=\"Good\")\n",
    "ax.hist(store_data[store_data[\"Performance\"]=='Bad'][\"Location\"], bins=15, alpha=0.5, color=\"green\", label=\"Bad\")\n",
    "\n",
    "ax.set_xlabel(\"Location\")\n",
    "ax.set_ylabel(\"Performance\")\n",
    "\n",
    "fig.suptitle(\"Peformance vs. Location\")\n",
    "\n",
    "ax.legend();"
   ]
  },
  {
   "cell_type": "markdown",
   "id": "30819e77",
   "metadata": {},
   "source": [
    "From above plot we can say that people prefer to visit store that have car parking and store is in shopping centre From above plot we can see that store in shopping centre has Good Performance and Store in High Street has Bad Perforance"
   ]
  },
  {
   "cell_type": "code",
   "execution_count": 20,
   "id": "2b0f7a0c",
   "metadata": {},
   "outputs": [
    {
     "data": {
      "image/png": "[encoded data removed]",
      "text/plain": [
       "<Figure size 864x720 with 2 Axes>"
      ]
     },
     "metadata": {
      "needs_background": "light"
     },
     "output_type": "display_data"
    }
   ],
   "source": [
    "#Correlation \n",
    "#Displaying Correlation between varaibles using heatmap\n",
    "import seaborn as sns\n",
    "import matplotlib.pyplot as plt\n",
    "plt.figure(figsize=(12,10))\n",
    "cor = store_data.corr()\n",
    "sns.heatmap(cor, annot=True, cmap=\"YlGnBu\")\n",
    "plt.show()"
   ]
  },
  {
   "cell_type": "code",
   "execution_count": 21,
   "id": "aab3bca7",
   "metadata": {},
   "outputs": [],
   "source": [
    "#This function filters out most correlated variables, threshold values is decided by us like 80% or more than that \n",
    "def correlation(store_data,threshold):\n",
    "    col_corr = set()\n",
    "    corr_matrix = store_data.corr()\n",
    "    for i in range(len(corr_matrix.columns)):\n",
    "        for j in range(i):\n",
    "            if abs(corr_matrix.iloc[i,j]) > threshold:\n",
    "                colname = corr_matrix.columns[i]#getting the name of column\n",
    "                col_corr.add(colname)\n",
    "    return col_corr"
   ]
  },
  {
   "cell_type": "code",
   "execution_count": 22,
   "id": "e9688cca",
   "metadata": {},
   "outputs": [
    {
     "data": {
      "text/plain": [
       "3"
      ]
     },
     "execution_count": 22,
     "metadata": {},
     "output_type": "execute_result"
    }
   ],
   "source": [
    "#Getting ALL feature who are correlated to each other and had correlation values more than 80%\n",
    "corr_feature = correlation(store_data, 0.75)\n",
    "len(set(corr_feature))"
   ]
  },
  {
   "cell_type": "code",
   "execution_count": 23,
   "id": "7b502087",
   "metadata": {},
   "outputs": [
    {
     "name": "stdout",
     "output_type": "stream",
     "text": [
      "{'20 min population', 'Window', '10 min population'}\n"
     ]
    }
   ],
   "source": [
    "#Displaying all highly correlated variables\n",
    "print(corr_feature)"
   ]
  },
  {
   "cell_type": "code",
   "execution_count": 24,
   "id": "5f963cdf",
   "metadata": {},
   "outputs": [],
   "source": [
    "#Dropping all correlated variables because they all are having same effects over target variables and have no use in model building\n",
    "store_data.drop(corr_feature,axis=1,inplace=True)"
   ]
  },
  {
   "cell_type": "code",
   "execution_count": 25,
   "id": "1762a253",
   "metadata": {},
   "outputs": [
    {
     "data": {
      "text/plain": [
       "(136, 16)"
      ]
     },
     "execution_count": 25,
     "metadata": {},
     "output_type": "execute_result"
    }
   ],
   "source": [
    "store_data.shape\n"
   ]
  },
  {
   "cell_type": "markdown",
   "id": "54fc7f4b",
   "metadata": {},
   "source": [
    "On the basies of Pearson Correlation we have done the Features Selection and the Features having Correlation Values more the 75% so we dropped that dataset as they are  similer effect over target varible "
   ]
  },
  {
   "cell_type": "markdown",
   "id": "5763fc38",
   "metadata": {},
   "source": [
    "# Feature Engineering"
   ]
  },
  {
   "cell_type": "code",
   "execution_count": 26,
   "id": "af45bccb",
   "metadata": {},
   "outputs": [],
   "source": [
    "#dropping columns that will not add any value to prediction \n",
    "store_data.drop(labels=['Town','Country','Store ID','Manager name'],axis=1,inplace=True) "
   ]
  },
  {
   "cell_type": "code",
   "execution_count": 27,
   "id": "cfc9eaec",
   "metadata": {},
   "outputs": [],
   "source": [
    "#Converting Y to Yes and N to No\n",
    "store_data['Car park'] = store_data['Car park'].replace({'Y':'Yes','N':'No'})"
   ]
  },
  {
   "cell_type": "code",
   "execution_count": 28,
   "id": "befc79da",
   "metadata": {},
   "outputs": [
    {
     "data": {
      "text/plain": [
       "array(['Yes', 'No'], dtype=object)"
      ]
     },
     "execution_count": 28,
     "metadata": {},
     "output_type": "execute_result"
    }
   ],
   "source": [
    "store_data['Car park'].unique()"
   ]
  },
  {
   "cell_type": "code",
   "execution_count": 29,
   "id": "fe20352c",
   "metadata": {},
   "outputs": [
    {
     "data": {
      "text/html": [
       "<div>\n",
       "<style scoped>\n",
       "    .dataframe tbody tr th:only-of-type {\n",
       "        vertical-align: middle;\n",
       "    }\n",
       "\n",
       "    .dataframe tbody tr th {\n",
       "        vertical-align: top;\n",
       "    }\n",
       "\n",
       "    .dataframe thead th {\n",
       "        text-align: right;\n",
       "    }\n",
       "</style>\n",
       "<table border=\"1\" class=\"dataframe\">\n",
       "  <thead>\n",
       "    <tr style=\"text-align: right;\">\n",
       "      <th></th>\n",
       "      <th>Staff</th>\n",
       "      <th>Floor Space</th>\n",
       "      <th>Car park</th>\n",
       "      <th>Demographic score</th>\n",
       "      <th>Location</th>\n",
       "      <th>40min population</th>\n",
       "      <th>30 min population</th>\n",
       "      <th>Store age</th>\n",
       "      <th>Clearance space</th>\n",
       "      <th>Competition number</th>\n",
       "      <th>Competition score</th>\n",
       "      <th>Performance</th>\n",
       "    </tr>\n",
       "  </thead>\n",
       "  <tbody>\n",
       "    <tr>\n",
       "      <th>0</th>\n",
       "      <td>9</td>\n",
       "      <td>18526</td>\n",
       "      <td>Yes</td>\n",
       "      <td>10</td>\n",
       "      <td>Retail Park</td>\n",
       "      <td>1288374</td>\n",
       "      <td>1138224</td>\n",
       "      <td>3</td>\n",
       "      <td>238</td>\n",
       "      <td>16</td>\n",
       "      <td>16</td>\n",
       "      <td>Good</td>\n",
       "    </tr>\n",
       "    <tr>\n",
       "      <th>1</th>\n",
       "      <td>8</td>\n",
       "      <td>18569</td>\n",
       "      <td>Yes</td>\n",
       "      <td>11</td>\n",
       "      <td>Shopping Centre</td>\n",
       "      <td>1086225</td>\n",
       "      <td>1015321</td>\n",
       "      <td>4</td>\n",
       "      <td>384</td>\n",
       "      <td>15</td>\n",
       "      <td>19</td>\n",
       "      <td>Good</td>\n",
       "    </tr>\n",
       "    <tr>\n",
       "      <th>2</th>\n",
       "      <td>-2</td>\n",
       "      <td>12288</td>\n",
       "      <td>No</td>\n",
       "      <td>12</td>\n",
       "      <td>Retail Park</td>\n",
       "      <td>1595638</td>\n",
       "      <td>1281661</td>\n",
       "      <td>11</td>\n",
       "      <td>219</td>\n",
       "      <td>13</td>\n",
       "      <td>18</td>\n",
       "      <td>Bad</td>\n",
       "    </tr>\n",
       "    <tr>\n",
       "      <th>3</th>\n",
       "      <td>7</td>\n",
       "      <td>17092</td>\n",
       "      <td>No</td>\n",
       "      <td>14</td>\n",
       "      <td>High Street</td>\n",
       "      <td>1179395</td>\n",
       "      <td>1022959</td>\n",
       "      <td>5</td>\n",
       "      <td>261</td>\n",
       "      <td>15</td>\n",
       "      <td>12</td>\n",
       "      <td>Bad</td>\n",
       "    </tr>\n",
       "    <tr>\n",
       "      <th>4</th>\n",
       "      <td>7</td>\n",
       "      <td>11307</td>\n",
       "      <td>No</td>\n",
       "      <td>18</td>\n",
       "      <td>Retail Park</td>\n",
       "      <td>1398558</td>\n",
       "      <td>1085170</td>\n",
       "      <td>7</td>\n",
       "      <td>200</td>\n",
       "      <td>19</td>\n",
       "      <td>13</td>\n",
       "      <td>Bad</td>\n",
       "    </tr>\n",
       "    <tr>\n",
       "      <th>...</th>\n",
       "      <td>...</td>\n",
       "      <td>...</td>\n",
       "      <td>...</td>\n",
       "      <td>...</td>\n",
       "      <td>...</td>\n",
       "      <td>...</td>\n",
       "      <td>...</td>\n",
       "      <td>...</td>\n",
       "      <td>...</td>\n",
       "      <td>...</td>\n",
       "      <td>...</td>\n",
       "      <td>...</td>\n",
       "    </tr>\n",
       "    <tr>\n",
       "      <th>131</th>\n",
       "      <td>7</td>\n",
       "      <td>14120</td>\n",
       "      <td>Yes</td>\n",
       "      <td>13</td>\n",
       "      <td>Retail Park</td>\n",
       "      <td>1665074</td>\n",
       "      <td>1240813</td>\n",
       "      <td>6</td>\n",
       "      <td>202</td>\n",
       "      <td>18</td>\n",
       "      <td>14</td>\n",
       "      <td>Bad</td>\n",
       "    </tr>\n",
       "    <tr>\n",
       "      <th>132</th>\n",
       "      <td>6</td>\n",
       "      <td>11205</td>\n",
       "      <td>No</td>\n",
       "      <td>15</td>\n",
       "      <td>Shopping Centre</td>\n",
       "      <td>1657769</td>\n",
       "      <td>1424404</td>\n",
       "      <td>5</td>\n",
       "      <td>203</td>\n",
       "      <td>13</td>\n",
       "      <td>18</td>\n",
       "      <td>Bad</td>\n",
       "    </tr>\n",
       "    <tr>\n",
       "      <th>133</th>\n",
       "      <td>7</td>\n",
       "      <td>16190</td>\n",
       "      <td>No</td>\n",
       "      <td>19</td>\n",
       "      <td>Shopping Centre</td>\n",
       "      <td>1407456</td>\n",
       "      <td>1359511</td>\n",
       "      <td>7</td>\n",
       "      <td>341</td>\n",
       "      <td>18</td>\n",
       "      <td>18</td>\n",
       "      <td>Bad</td>\n",
       "    </tr>\n",
       "    <tr>\n",
       "      <th>134</th>\n",
       "      <td>6</td>\n",
       "      <td>15516</td>\n",
       "      <td>No</td>\n",
       "      <td>17</td>\n",
       "      <td>High Street</td>\n",
       "      <td>1451087</td>\n",
       "      <td>1245725</td>\n",
       "      <td>11</td>\n",
       "      <td>261</td>\n",
       "      <td>14</td>\n",
       "      <td>10</td>\n",
       "      <td>Bad</td>\n",
       "    </tr>\n",
       "    <tr>\n",
       "      <th>135</th>\n",
       "      <td>9</td>\n",
       "      <td>14468</td>\n",
       "      <td>Yes</td>\n",
       "      <td>18</td>\n",
       "      <td>High Street</td>\n",
       "      <td>1706344</td>\n",
       "      <td>1307752</td>\n",
       "      <td>8</td>\n",
       "      <td>276</td>\n",
       "      <td>18</td>\n",
       "      <td>13</td>\n",
       "      <td>Good</td>\n",
       "    </tr>\n",
       "  </tbody>\n",
       "</table>\n",
       "<p>136 rows × 12 columns</p>\n",
       "</div>"
      ],
      "text/plain": [
       "     Staff  Floor Space Car park  Demographic score         Location  \\\n",
       "0        9        18526      Yes                 10      Retail Park   \n",
       "1        8        18569      Yes                 11  Shopping Centre   \n",
       "2       -2        12288       No                 12      Retail Park   \n",
       "3        7        17092       No                 14      High Street   \n",
       "4        7        11307       No                 18      Retail Park   \n",
       "..     ...          ...      ...                ...              ...   \n",
       "131      7        14120      Yes                 13      Retail Park   \n",
       "132      6        11205       No                 15  Shopping Centre   \n",
       "133      7        16190       No                 19  Shopping Centre   \n",
       "134      6        15516       No                 17      High Street   \n",
       "135      9        14468      Yes                 18      High Street   \n",
       "\n",
       "     40min population  30 min population  Store age  Clearance space  \\\n",
       "0             1288374            1138224          3              238   \n",
       "1             1086225            1015321          4              384   \n",
       "2             1595638            1281661         11              219   \n",
       "3             1179395            1022959          5              261   \n",
       "4             1398558            1085170          7              200   \n",
       "..                ...                ...        ...              ...   \n",
       "131           1665074            1240813          6              202   \n",
       "132           1657769            1424404          5              203   \n",
       "133           1407456            1359511          7              341   \n",
       "134           1451087            1245725         11              261   \n",
       "135           1706344            1307752          8              276   \n",
       "\n",
       "     Competition number  Competition score Performance  \n",
       "0                    16                 16        Good  \n",
       "1                    15                 19        Good  \n",
       "2                    13                 18         Bad  \n",
       "3                    15                 12         Bad  \n",
       "4                    19                 13         Bad  \n",
       "..                  ...                ...         ...  \n",
       "131                  18                 14         Bad  \n",
       "132                  13                 18         Bad  \n",
       "133                  18                 18         Bad  \n",
       "134                  14                 10         Bad  \n",
       "135                  18                 13        Good  \n",
       "\n",
       "[136 rows x 12 columns]"
      ]
     },
     "execution_count": 29,
     "metadata": {},
     "output_type": "execute_result"
    }
   ],
   "source": [
    "store_data"
   ]
  },
  {
   "cell_type": "code",
   "execution_count": 31,
   "id": "4818ed17",
   "metadata": {},
   "outputs": [
    {
     "name": "stdout",
     "output_type": "stream",
     "text": [
      "Index(['Car park', 'Location', 'Performance'], dtype='object')\n"
     ]
    }
   ],
   "source": [
    "#Getting list of categorical variable\n",
    "objList = store_data.select_dtypes(include = \"object\").columns\n",
    "print (objList)"
   ]
  },
  {
   "cell_type": "code",
   "execution_count": 36,
   "id": "b175f4e7",
   "metadata": {},
   "outputs": [],
   "source": [
    "#Label Encoding for object to numeric conversion\n",
    "from sklearn.preprocessing import LabelEncoder\n",
    "le = LabelEncoder()\n",
    "\n",
    "#Converting all categorical variable to numerical values\n",
    "for feat in objList:\n",
    "    store_data[feat] = le.fit_transform(store_data[feat])\n"
   ]
  },
  {
   "cell_type": "code",
   "execution_count": 37,
   "id": "8f8310fd",
   "metadata": {},
   "outputs": [
    {
     "data": {
      "text/html": [
       "<div>\n",
       "<style scoped>\n",
       "    .dataframe tbody tr th:only-of-type {\n",
       "        vertical-align: middle;\n",
       "    }\n",
       "\n",
       "    .dataframe tbody tr th {\n",
       "        vertical-align: top;\n",
       "    }\n",
       "\n",
       "    .dataframe thead th {\n",
       "        text-align: right;\n",
       "    }\n",
       "</style>\n",
       "<table border=\"1\" class=\"dataframe\">\n",
       "  <thead>\n",
       "    <tr style=\"text-align: right;\">\n",
       "      <th></th>\n",
       "      <th>Staff</th>\n",
       "      <th>Floor Space</th>\n",
       "      <th>Car park</th>\n",
       "      <th>Demographic score</th>\n",
       "      <th>Location</th>\n",
       "      <th>40min population</th>\n",
       "      <th>30 min population</th>\n",
       "      <th>Store age</th>\n",
       "      <th>Clearance space</th>\n",
       "      <th>Competition number</th>\n",
       "      <th>Competition score</th>\n",
       "      <th>Performance</th>\n",
       "    </tr>\n",
       "  </thead>\n",
       "  <tbody>\n",
       "    <tr>\n",
       "      <th>0</th>\n",
       "      <td>9</td>\n",
       "      <td>18526</td>\n",
       "      <td>1</td>\n",
       "      <td>10</td>\n",
       "      <td>1</td>\n",
       "      <td>1288374</td>\n",
       "      <td>1138224</td>\n",
       "      <td>3</td>\n",
       "      <td>238</td>\n",
       "      <td>16</td>\n",
       "      <td>16</td>\n",
       "      <td>1</td>\n",
       "    </tr>\n",
       "    <tr>\n",
       "      <th>1</th>\n",
       "      <td>8</td>\n",
       "      <td>18569</td>\n",
       "      <td>1</td>\n",
       "      <td>11</td>\n",
       "      <td>2</td>\n",
       "      <td>1086225</td>\n",
       "      <td>1015321</td>\n",
       "      <td>4</td>\n",
       "      <td>384</td>\n",
       "      <td>15</td>\n",
       "      <td>19</td>\n",
       "      <td>1</td>\n",
       "    </tr>\n",
       "    <tr>\n",
       "      <th>2</th>\n",
       "      <td>-2</td>\n",
       "      <td>12288</td>\n",
       "      <td>0</td>\n",
       "      <td>12</td>\n",
       "      <td>1</td>\n",
       "      <td>1595638</td>\n",
       "      <td>1281661</td>\n",
       "      <td>11</td>\n",
       "      <td>219</td>\n",
       "      <td>13</td>\n",
       "      <td>18</td>\n",
       "      <td>0</td>\n",
       "    </tr>\n",
       "    <tr>\n",
       "      <th>3</th>\n",
       "      <td>7</td>\n",
       "      <td>17092</td>\n",
       "      <td>0</td>\n",
       "      <td>14</td>\n",
       "      <td>0</td>\n",
       "      <td>1179395</td>\n",
       "      <td>1022959</td>\n",
       "      <td>5</td>\n",
       "      <td>261</td>\n",
       "      <td>15</td>\n",
       "      <td>12</td>\n",
       "      <td>0</td>\n",
       "    </tr>\n",
       "    <tr>\n",
       "      <th>4</th>\n",
       "      <td>7</td>\n",
       "      <td>11307</td>\n",
       "      <td>0</td>\n",
       "      <td>18</td>\n",
       "      <td>1</td>\n",
       "      <td>1398558</td>\n",
       "      <td>1085170</td>\n",
       "      <td>7</td>\n",
       "      <td>200</td>\n",
       "      <td>19</td>\n",
       "      <td>13</td>\n",
       "      <td>0</td>\n",
       "    </tr>\n",
       "  </tbody>\n",
       "</table>\n",
       "</div>"
      ],
      "text/plain": [
       "   Staff  Floor Space  Car park  Demographic score  Location  \\\n",
       "0      9        18526         1                 10         1   \n",
       "1      8        18569         1                 11         2   \n",
       "2     -2        12288         0                 12         1   \n",
       "3      7        17092         0                 14         0   \n",
       "4      7        11307         0                 18         1   \n",
       "\n",
       "   40min population  30 min population  Store age  Clearance space  \\\n",
       "0           1288374            1138224          3              238   \n",
       "1           1086225            1015321          4              384   \n",
       "2           1595638            1281661         11              219   \n",
       "3           1179395            1022959          5              261   \n",
       "4           1398558            1085170          7              200   \n",
       "\n",
       "   Competition number  Competition score  Performance  \n",
       "0                  16                 16            1  \n",
       "1                  15                 19            1  \n",
       "2                  13                 18            0  \n",
       "3                  15                 12            0  \n",
       "4                  19                 13            0  "
      ]
     },
     "execution_count": 37,
     "metadata": {},
     "output_type": "execute_result"
    }
   ],
   "source": [
    "store_data.head()"
   ]
  },
  {
   "cell_type": "markdown",
   "id": "b1e5c81b",
   "metadata": {},
   "source": [
    "# Data Preparation, Scaling and Spliting"
   ]
  },
  {
   "cell_type": "code",
   "execution_count": 39,
   "id": "b8595a7d",
   "metadata": {},
   "outputs": [],
   "source": [
    "# Distinguish the feather and target set and divide the data set  into training and test sets\n",
    "X = store_data.drop('Performance', axis='columns')\n",
    "y = store_data['Performance']\n"
   ]
  },
  {
   "cell_type": "code",
   "execution_count": 41,
   "id": "f1ee8dea",
   "metadata": {},
   "outputs": [],
   "source": [
    "from sklearn.preprocessing import MinMaxScaler  # have to impoort MinMaxScaler for Normilization"
   ]
  },
  {
   "cell_type": "code",
   "execution_count": 44,
   "id": "4a459c50",
   "metadata": {},
   "outputs": [],
   "source": [
    "# perform a robust scaler transform of the dataset\n",
    "trans = MinMaxScaler()\n",
    "X = trans.fit_transform(X)"
   ]
  },
  {
   "cell_type": "code",
   "execution_count": 45,
   "id": "d57ba640",
   "metadata": {},
   "outputs": [],
   "source": [
    "from sklearn.model_selection import train_test_split # importing train_test_splits for training and test the data set\n",
    "X_train, X_test, y_train, y_test = train_test_split(X,y,test_size=0.2,random_state=5)"
   ]
  },
  {
   "cell_type": "code",
   "execution_count": 46,
   "id": "242e5b43",
   "metadata": {},
   "outputs": [
    {
     "data": {
      "text/plain": [
       "((108, 11), (28, 11), (108,), (28,))"
      ]
     },
     "execution_count": 46,
     "metadata": {},
     "output_type": "execute_result"
    }
   ],
   "source": [
    "X_train.shape, X_test.shape, y_train.shape, y_test.shape"
   ]
  },
  {
   "cell_type": "markdown",
   "id": "ec453be1",
   "metadata": {},
   "source": [
    "Used MinMax Scaler to Normalize the value between [0,1]"
   ]
  },
  {
   "cell_type": "markdown",
   "id": "9e6328ff",
   "metadata": {},
   "source": [
    "\n",
    "# Model Building"
   ]
  },
  {
   "cell_type": "markdown",
   "id": "685a10a1",
   "metadata": {},
   "source": [
    " Decision Tree Classifier"
   ]
  },
  {
   "cell_type": "code",
   "execution_count": 50,
   "id": "4e6e6562",
   "metadata": {},
   "outputs": [],
   "source": [
    "#applying grid search cv to find the best hyper parameters for model\n",
    "from sklearn.model_selection import RandomizedSearchCV\n",
    "\n",
    "# Fit models\n",
    "from sklearn.linear_model import LogisticRegression\n",
    "\n",
    "from sklearn.tree import DecisionTreeClassifier"
   ]
  },
  {
   "cell_type": "code",
   "execution_count": 51,
   "id": "9bfbf9ca",
   "metadata": {},
   "outputs": [],
   "source": [
    "# Creating the hyperparameter grid \n",
    "param_dist = {\"max_depth\": [3, None],\n",
    "              \"max_features\": range(1, 9),\n",
    "              \"min_samples_leaf\": range(1, 9),\n",
    "              \"criterion\": [\"gini\", \"entropy\"]}\n",
    "  \n",
    "# Instantiating Decision Tree classifier\n",
    "tree = DecisionTreeClassifier()"
   ]
  },
  {
   "cell_type": "code",
   "execution_count": 52,
   "id": "6f0d08a8",
   "metadata": {},
   "outputs": [
    {
     "data": {
      "text/plain": [
       "RandomizedSearchCV(cv=5, estimator=DecisionTreeClassifier(),\n",
       "                   param_distributions={'criterion': ['gini', 'entropy'],\n",
       "                                        'max_depth': [3, None],\n",
       "                                        'max_features': range(1, 9),\n",
       "                                        'min_samples_leaf': range(1, 9)})"
      ]
     },
     "execution_count": 52,
     "metadata": {},
     "output_type": "execute_result"
    }
   ],
   "source": [
    "# Instantiating RandomizedSearchCV object\n",
    "tree_cv = RandomizedSearchCV(tree, param_dist, cv = 5)\n",
    "  \n",
    "tree_cv.fit(X_train, y_train)\n",
    "  "
   ]
  },
  {
   "cell_type": "code",
   "execution_count": 53,
   "id": "1e141658",
   "metadata": {},
   "outputs": [
    {
     "name": "stdout",
     "output_type": "stream",
     "text": [
      "Tuned Decision Tree Parameters: {'min_samples_leaf': 4, 'max_features': 8, 'max_depth': 3, 'criterion': 'entropy'}\n",
      "Best score is 0.6952380952380952\n"
     ]
    }
   ],
   "source": [
    "  # Print the tuned parameters and score\n",
    "print(\"Tuned Decision Tree Parameters: {}\".format(tree_cv.best_params_))\n",
    "print(\"Best score is {}\".format(tree_cv.best_score_))"
   ]
  },
  {
   "cell_type": "code",
   "execution_count": 55,
   "id": "e19d73f7",
   "metadata": {},
   "outputs": [],
   "source": [
    "#Prediction using Test Dataste\n",
    "y_pred = tree_cv.predict(X_test)"
   ]
  },
  {
   "cell_type": "code",
   "execution_count": 57,
   "id": "97473794",
   "metadata": {},
   "outputs": [],
   "source": [
    "# Scoring functions\n",
    "from sklearn.metrics import accuracy_score\n",
    "from sklearn.metrics import f1_score\n",
    "from sklearn.metrics import confusion_matrix"
   ]
  },
  {
   "cell_type": "code",
   "execution_count": 58,
   "id": "36633cb6",
   "metadata": {},
   "outputs": [
    {
     "data": {
      "text/plain": [
       "0.6071428571428571"
      ]
     },
     "execution_count": 58,
     "metadata": {},
     "output_type": "execute_result"
    }
   ],
   "source": [
    "#Accuracy on the basis of predicted values with respective to true values\n",
    "dt_acc = accuracy_score(y_test,y_pred)\n",
    "dt_acc"
   ]
  },
  {
   "cell_type": "code",
   "execution_count": 59,
   "id": "a7bb7d10",
   "metadata": {},
   "outputs": [
    {
     "data": {
      "text/plain": [
       "Text(69.0, 0.5, 'Truth')"
      ]
     },
     "execution_count": 59,
     "metadata": {},
     "output_type": "execute_result"
    },
    {
     "data": {
      "image/png": "[encoded data removed]",
      "text/plain": [
       "<Figure size 720x504 with 2 Axes>"
      ]
     },
     "metadata": {
      "needs_background": "light"
     },
     "output_type": "display_data"
    }
   ],
   "source": [
    "# Confusion Matrix\n",
    "\n",
    "import seaborn as sn\n",
    "cm = confusion_matrix(y_test,y_pred)\n",
    "\n",
    "plt.figure(figsize = (10,7))\n",
    "sn.heatmap(cm, annot=True, fmt='d')\n",
    "plt.xlabel('Predicted')\n",
    "plt.ylabel('Truth')"
   ]
  },
  {
   "cell_type": "markdown",
   "id": "ca00051a",
   "metadata": {},
   "source": [
    "Logistic Regression"
   ]
  },
  {
   "cell_type": "code",
   "execution_count": 61,
   "id": "070015e2",
   "metadata": {},
   "outputs": [],
   "source": [
    "# Fitting Logistic Regression\n",
    "\n",
    "LogReg = LogisticRegression()"
   ]
  },
  {
   "cell_type": "code",
   "execution_count": 62,
   "id": "e111c9cf",
   "metadata": {},
   "outputs": [],
   "source": [
    "C = np.logspace(0, 4, num=10)\n",
    "penalty = ['l1', 'l2']\n",
    "solver = ['liblinear', 'saga']\n",
    "hyperparameters = dict(C=C, penalty=penalty, solver=solver)"
   ]
  },
  {
   "cell_type": "code",
   "execution_count": 63,
   "id": "cdbf017a",
   "metadata": {},
   "outputs": [
    {
     "name": "stdout",
     "output_type": "stream",
     "text": [
      "LogisticRegression(C=59.94842503189409, penalty='l1', solver='liblinear')\n"
     ]
    }
   ],
   "source": [
    "randomizedsearch = RandomizedSearchCV(LogReg, hyperparameters)\n",
    "best_model_random = randomizedsearch.fit(X_train, y_train)\n",
    "print(best_model_random.best_estimator_)"
   ]
  },
  {
   "cell_type": "code",
   "execution_count": 64,
   "id": "9eebf597",
   "metadata": {},
   "outputs": [],
   "source": [
    "#Predict values based on new parameters\n",
    "y_pred_lr = randomizedsearch.predict(X_test)"
   ]
  },
  {
   "cell_type": "code",
   "execution_count": 65,
   "id": "a8349cf7",
   "metadata": {},
   "outputs": [
    {
     "data": {
      "text/plain": [
       "0.8214285714285714"
      ]
     },
     "execution_count": 65,
     "metadata": {},
     "output_type": "execute_result"
    }
   ],
   "source": [
    "# New Model Evaluation metrics \n",
    "lr_acc = accuracy_score(y_test, y_pred_lr)\n",
    "lr_acc"
   ]
  },
  {
   "cell_type": "code",
   "execution_count": 67,
   "id": "89b64e21",
   "metadata": {},
   "outputs": [
    {
     "data": {
      "text/plain": [
       "Text(69.0, 0.5, 'Truth')"
      ]
     },
     "execution_count": 67,
     "metadata": {},
     "output_type": "execute_result"
    },
    {
     "data": {
      "image/png": "[encoded data removed]",
      "text/plain": [
       "<Figure size 720x504 with 2 Axes>"
      ]
     },
     "metadata": {
      "needs_background": "light"
     },
     "output_type": "display_data"
    }
   ],
   "source": [
    " #Confusion Matrix\n",
    "\n",
    "import seaborn as sn\n",
    "cm = confusion_matrix(y_test,y_pred_lr)\n",
    "\n",
    "plt.figure(figsize = (10,7))\n",
    "sn.heatmap(cm, annot=True, fmt='d')\n",
    "plt.xlabel('Predicted')\n",
    "plt.ylabel('Truth')"
   ]
  },
  {
   "cell_type": "markdown",
   "id": "85c540c1",
   "metadata": {},
   "source": [
    "# Displaying the Result of All the three classifier Used."
   ]
  },
  {
   "cell_type": "code",
   "execution_count": 71,
   "id": "075ac432",
   "metadata": {},
   "outputs": [],
   "source": [
    "#Getting accuracy and log loss for each model\n",
    "model_data = pd.DataFrame({'Classifiers' : ['LogisticRegression', 'DecisionTreeClassifier'],\n",
    "                        'Accuracy %' : [lr_acc,dt_acc]})"
   ]
  },
  {
   "cell_type": "code",
   "execution_count": 72,
   "id": "b94b22f7",
   "metadata": {},
   "outputs": [],
   "source": [
    "model_data['Accuracy %'] = model_data['Accuracy %'].apply(lambda x : round((x*100),2))"
   ]
  },
  {
   "cell_type": "code",
   "execution_count": 73,
   "id": "e17e13f9",
   "metadata": {},
   "outputs": [
    {
     "data": {
      "text/html": [
       "<div>\n",
       "<style scoped>\n",
       "    .dataframe tbody tr th:only-of-type {\n",
       "        vertical-align: middle;\n",
       "    }\n",
       "\n",
       "    .dataframe tbody tr th {\n",
       "        vertical-align: top;\n",
       "    }\n",
       "\n",
       "    .dataframe thead th {\n",
       "        text-align: right;\n",
       "    }\n",
       "</style>\n",
       "<table border=\"1\" class=\"dataframe\">\n",
       "  <thead>\n",
       "    <tr style=\"text-align: right;\">\n",
       "      <th></th>\n",
       "      <th>Classifiers</th>\n",
       "      <th>Accuracy %</th>\n",
       "    </tr>\n",
       "  </thead>\n",
       "  <tbody>\n",
       "    <tr>\n",
       "      <th>0</th>\n",
       "      <td>LogisticRegression</td>\n",
       "      <td>82.14</td>\n",
       "    </tr>\n",
       "    <tr>\n",
       "      <th>1</th>\n",
       "      <td>DecisionTreeClassifier</td>\n",
       "      <td>60.71</td>\n",
       "    </tr>\n",
       "  </tbody>\n",
       "</table>\n",
       "</div>"
      ],
      "text/plain": [
       "              Classifiers  Accuracy %\n",
       "0      LogisticRegression       82.14\n",
       "1  DecisionTreeClassifier       60.71"
      ]
     },
     "execution_count": 73,
     "metadata": {},
     "output_type": "execute_result"
    }
   ],
   "source": [
    "model_data"
   ]
  },
  {
   "cell_type": "code",
   "execution_count": 76,
   "id": "9324bfbc",
   "metadata": {},
   "outputs": [
    {
     "data": {
      "image/png": "[encoded data removed]",
      "text/plain": [
       "<Figure size 432x288 with 1 Axes>"
      ]
     },
     "metadata": {
      "needs_background": "light"
     },
     "output_type": "display_data"
    }
   ],
   "source": [
    "#Visualizing the accuracy and log loss of each model\n",
    "sns.barplot(data =model_data, x = model_data['Accuracy %'], y = model_data.Classifiers)\n",
    "plt.title('Model Accuaracy')\n",
    "plt.show()"
   ]
  },
  {
   "cell_type": "markdown",
   "id": "247d56a2",
   "metadata": {},
   "source": [
    "From above Results we can say that Logistic Regression works well as it gains an accuracy score of 82.14% and rest algorithms Decision Tree Classifier attains an accuracy score of 60.71% ."
   ]
  },
  {
   "cell_type": "markdown",
   "id": "2ddb890c",
   "metadata": {},
   "source": [
    "In this project we got the insides that people prefer to visit store that have car parking and store is in shopping centre and store in shopping centre has Good Performance and Store in High Street has Bad Perforance"
   ]
  },
  {
   "cell_type": "code",
   "execution_count": null,
   "id": "e3e71dbd",
   "metadata": {},
   "outputs": [],
   "source": []
  }
 ],
 "metadata": {
  "kernelspec": {
   "display_name": "Python 3",
   "language": "python",
   "name": "python3"
  },
  "language_info": {
   "codemirror_mode": {
    "name": "ipython",
    "version": 3
   },
   "file_extension": ".py",
   "mimetype": "text/x-python",
   "name": "python",
   "nbconvert_exporter": "python",
   "pygments_lexer": "ipython3",
   "version": "3.8.8"
  }
 },
 "nbformat": 4,
 "nbformat_minor": 5
}
